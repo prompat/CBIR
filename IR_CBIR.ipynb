{
  "nbformat": 4,
  "nbformat_minor": 0,
  "metadata": {
    "colab": {
      "name": "IR-CBIR.ipynb",
      "provenance": [],
      "collapsed_sections": [],
      "toc_visible": true,
      "include_colab_link": true
    },
    "kernelspec": {
      "name": "python3",
      "display_name": "Python 3"
    }
  },
  "cells": [
    {
      "cell_type": "markdown",
      "metadata": {
        "id": "view-in-github",
        "colab_type": "text"
      },
      "source": [
        "<a href=\"https://colab.research.google.com/github/prompat/CBIR/blob/master/IR_CBIR.ipynb\" target=\"_parent\"><img src=\"https://colab.research.google.com/assets/colab-badge.svg\" alt=\"Open In Colab\"/></a>"
      ]
    },
    {
      "cell_type": "markdown",
      "metadata": {
        "id": "YHu-LejeQupL",
        "colab_type": "text"
      },
      "source": [
        "# CBIR\n",
        "\n",
        "🏞 A content-based image retrieval (CBIR) system\n",
        "\n",
        "เราจะใช้โปรเจคนี้ในการทำ Lab\n",
        "\n",
        "GitHub : https://github.com/wannaphong/CBIR"
      ]
    },
    {
      "cell_type": "markdown",
      "metadata": {
        "id": "1KxQLbcnMOQT",
        "colab_type": "text"
      },
      "source": [
        "<img align='center' style=\"border-color:gray;border-width:2px;border-style:dashed\"   src='https://raw.githubusercontent.com/pochih/CBIR/img/CBIR.png' padding='5px' height=\"300px\"></img>\n",
        "<h6><a href='https://winstonhsu.info/2017f-mmai/'>Image src</a></h6>"
      ]
    },
    {
      "cell_type": "markdown",
      "metadata": {
        "id": "I5oK_htHTs7A",
        "colab_type": "text"
      },
      "source": [
        "# เตรียม Lab"
      ]
    },
    {
      "cell_type": "code",
      "metadata": {
        "id": "bv4uq34gP_Xf",
        "colab_type": "code",
        "colab": {}
      },
      "source": [
        "!git clone https://github.com/wannaphong/CBIR.git"
      ],
      "execution_count": 0,
      "outputs": []
    },
    {
      "cell_type": "code",
      "metadata": {
        "id": "6eY64j6SQtr4",
        "colab_type": "code",
        "colab": {}
      },
      "source": [
        "cd CBIR"
      ],
      "execution_count": 0,
      "outputs": []
    },
    {
      "cell_type": "code",
      "metadata": {
        "id": "TrSeCU2_TvAV",
        "colab_type": "code",
        "colab": {}
      },
      "source": [
        "!rm -rf result"
      ],
      "execution_count": 0,
      "outputs": []
    },
    {
      "cell_type": "code",
      "metadata": {
        "id": "k5vR8o24WyoX",
        "colab_type": "code",
        "colab": {}
      },
      "source": [
        "#!git clone https://github.com/wannaphong/tiny-image-classification-dataset.git"
      ],
      "execution_count": 0,
      "outputs": []
    },
    {
      "cell_type": "code",
      "metadata": {
        "id": "AIbZWf40EBNO",
        "colab_type": "code",
        "colab": {}
      },
      "source": [
        "#!mv /content/CBIR/tiny-image-classification-dataset/database /content/CBIR/database"
      ],
      "execution_count": 0,
      "outputs": []
    },
    {
      "cell_type": "code",
      "metadata": {
        "id": "i-7q8M9mD8Dp",
        "colab_type": "code",
        "colab": {}
      },
      "source": [
        "ls"
      ],
      "execution_count": 0,
      "outputs": []
    },
    {
      "cell_type": "code",
      "metadata": {
        "id": "CWWS48wcGNcU",
        "colab_type": "code",
        "colab": {}
      },
      "source": [
        "!ls /content/CBIR/database/"
      ],
      "execution_count": 0,
      "outputs": []
    },
    {
      "cell_type": "code",
      "metadata": {
        "id": "s6IJxiuYEqcm",
        "colab_type": "code",
        "colab": {}
      },
      "source": [
        "!pip install scipy==1.1"
      ],
      "execution_count": 0,
      "outputs": []
    },
    {
      "cell_type": "markdown",
      "metadata": {
        "id": "wHeoZa_ReRZf",
        "colab_type": "text"
      },
      "source": [
        "# ชุดข้อมูลรูปภาพสำหรับจัดทำดัชนีรูปภาพ"
      ]
    },
    {
      "cell_type": "markdown",
      "metadata": {
        "id": "EP-7y7-selgu",
        "colab_type": "text"
      },
      "source": [
        "![dataset](https://github.com/pochih/CBIR/raw/img/database.png)"
      ]
    },
    {
      "cell_type": "markdown",
      "metadata": {
        "id": "QtBwPsCQel9R",
        "colab_type": "text"
      },
      "source": [
        "ภาพอยู่ใน database โดยแยกเป็นโฟสเดอร์ละ class สำหรับการทำดัชนีเพื่อการค้นคืนรูปภาพ\n",
        "\n",
        "สำหรับข้อมูลที่ใช้ใน Lab อยู่ที่ https://github.com/wannaphong/CBIR/tree/master/database"
      ]
    },
    {
      "cell_type": "code",
      "metadata": {
        "id": "R9hBYNiKeZNq",
        "colab_type": "code",
        "colab": {}
      },
      "source": [
        "!ls database/"
      ],
      "execution_count": 0,
      "outputs": []
    },
    {
      "cell_type": "code",
      "metadata": {
        "id": "6jpgyoX0e-zI",
        "colab_type": "code",
        "colab": {}
      },
      "source": [
        "import glob"
      ],
      "execution_count": 0,
      "outputs": []
    },
    {
      "cell_type": "code",
      "metadata": {
        "id": "0FJNXuAXfOh0",
        "colab_type": "code",
        "colab": {}
      },
      "source": [
        "files=glob.glob(\"database/*/*.*\")"
      ],
      "execution_count": 0,
      "outputs": []
    },
    {
      "cell_type": "code",
      "metadata": {
        "id": "zBqFFJHyfR_e",
        "colab_type": "code",
        "colab": {}
      },
      "source": [
        "%matplotlib inline\n",
        "\"\"\"\n",
        "ดูรูปภาพที่มีทั้งหมด\n",
        "\"\"\"\n",
        "import cv2\n",
        "from matplotlib import pyplot as plt\n",
        "plt.figure(figsize=(20,10))\n",
        "columns = 5\n",
        "for i, image in enumerate(files):\n",
        "    plt.subplot(len(files) / columns + 1, columns, i + 1)\n",
        "    img = cv2.imread(image)\n",
        "    img = cv2.cvtColor(img, cv2.COLOR_BGR2RGB)\n",
        "    plt.imshow(img)"
      ],
      "execution_count": 0,
      "outputs": []
    },
    {
      "cell_type": "markdown",
      "metadata": {
        "id": "TyAc8J3sh3-M",
        "colab_type": "text"
      },
      "source": [
        "**ให้เอา # ออก หากปรับแต่งข้อมูลที่นอกเหนือจากข้อมูลที่ใช้ใน LAB**"
      ]
    },
    {
      "cell_type": "code",
      "metadata": {
        "id": "escwPGLNhz_Z",
        "colab_type": "code",
        "colab": {}
      },
      "source": [
        "#!rm -rf cache"
      ],
      "execution_count": 0,
      "outputs": []
    },
    {
      "cell_type": "markdown",
      "metadata": {
        "id": "SJ02VRh8TycX",
        "colab_type": "text"
      },
      "source": [
        "# เลือกการทำงาน\n",
        "\n",
        "รองรับ\n",
        "\n",
        "- RGB histogram (python color.py)\n",
        "- daisy image descriptor (python daisy.py)\n",
        "- gabor filter (python gabor.py)\n",
        "- edge histogram (python edge.py)\n",
        "- histogram of gradient (HOG) (python HOG.py)\n",
        "- VGG19 (python vggnet.py) <- Deep learning\n",
        "- ResNet152 (python resnet.py) <- Deep learning\n",
        "\n",
        "ในนี้เลือก Color หรือ ใช้สีในการค้นหารูปภาพ (เพราะทำงานเร็วที่สุด)"
      ]
    },
    {
      "cell_type": "code",
      "metadata": {
        "id": "ZdwXGdcJJrWC",
        "colab_type": "code",
        "colab": {}
      },
      "source": [
        "!python color.py"
      ],
      "execution_count": 0,
      "outputs": []
    },
    {
      "cell_type": "code",
      "metadata": {
        "id": "RuhV-6euUJpj",
        "colab_type": "code",
        "colab": {}
      },
      "source": [
        "!python daisy.py"
      ],
      "execution_count": 0,
      "outputs": []
    },
    {
      "cell_type": "code",
      "metadata": {
        "id": "n9gdTlaJR0LG",
        "colab_type": "code",
        "colab": {}
      },
      "source": [
        "#!python gabor.py"
      ],
      "execution_count": 0,
      "outputs": []
    },
    {
      "cell_type": "code",
      "metadata": {
        "id": "ZAGoqVo_RiT2",
        "colab_type": "code",
        "colab": {}
      },
      "source": [
        "!python edge.py"
      ],
      "execution_count": 0,
      "outputs": []
    },
    {
      "cell_type": "code",
      "metadata": {
        "id": "s16zne4uM3Cf",
        "colab_type": "code",
        "colab": {}
      },
      "source": [
        "!python HOG.py"
      ],
      "execution_count": 0,
      "outputs": []
    },
    {
      "cell_type": "code",
      "metadata": {
        "id": "HKwXbNN2SJc5",
        "colab_type": "code",
        "colab": {}
      },
      "source": [
        "#!python resnet.py"
      ],
      "execution_count": 0,
      "outputs": []
    },
    {
      "cell_type": "markdown",
      "metadata": {
        "id": "Grc2BfNTNd2d",
        "colab_type": "text"
      },
      "source": [
        "# ค้นหา"
      ]
    },
    {
      "cell_type": "code",
      "metadata": {
        "id": "EGG1R-a-Q__u",
        "colab_type": "code",
        "colab": {}
      },
      "source": [
        "import numpy as np"
      ],
      "execution_count": 0,
      "outputs": []
    },
    {
      "cell_type": "code",
      "metadata": {
        "id": "P9h7Iyi3NdQJ",
        "colab_type": "code",
        "colab": {}
      },
      "source": [
        "import sys\n",
        "from color import Color\n",
        "from daisy import Daisy\n",
        "from DB import Database\n",
        "from edge import Edge\n",
        "from evaluate import infer\n",
        "from gabor import Gabor\n",
        "from HOG import HOG\n",
        "from resnet import ResNetFeat\n",
        "from vggnet import VGGNetFeat\n",
        "\n",
        "depth = 5\n",
        "d_type = 'd1'\n",
        "query_idx = 0"
      ],
      "execution_count": 0,
      "outputs": []
    },
    {
      "cell_type": "code",
      "metadata": {
        "id": "22H9aHWZNgqF",
        "colab_type": "code",
        "colab": {}
      },
      "source": [
        "db = Database()"
      ],
      "execution_count": 0,
      "outputs": []
    },
    {
      "cell_type": "code",
      "metadata": {
        "id": "LKPZFnatNk69",
        "colab_type": "code",
        "colab": {}
      },
      "source": [
        "methods = {\n",
        "        \"color\": Color,\n",
        "        \"daisy\": Daisy,\n",
        "        \"edge\": Edge,\n",
        "        \"hog\": HOG,\n",
        "        \"gabor\": Gabor,\n",
        "        \"vgg\": VGGNetFeat,\n",
        "        \"resnet\": ResNetFeat\n",
        "    }"
      ],
      "execution_count": 0,
      "outputs": []
    },
    {
      "cell_type": "code",
      "metadata": {
        "id": "ZeB5pNktNm83",
        "colab_type": "code",
        "colab": {}
      },
      "source": [
        "mthd = \"color\" # เปลี่ยนการทำงานแล้ว อย่าลืมเปลี่ยนอันนี้"
      ],
      "execution_count": 0,
      "outputs": []
    },
    {
      "cell_type": "code",
      "metadata": {
        "id": "pqb7DJiwNuH5",
        "colab_type": "code",
        "colab": {}
      },
      "source": [
        "query_idx = 30"
      ],
      "execution_count": 0,
      "outputs": []
    },
    {
      "cell_type": "code",
      "metadata": {
        "id": "58GROCp7OSYr",
        "colab_type": "code",
        "colab": {}
      },
      "source": [
        "samples = getattr(methods[mthd](), \"make_samples\")(db)"
      ],
      "execution_count": 0,
      "outputs": []
    },
    {
      "cell_type": "code",
      "metadata": {
        "colab_type": "code",
        "id": "9r1bgZJDityp",
        "colab": {}
      },
      "source": [
        "#query = samples[query_idx]"
      ],
      "execution_count": 0,
      "outputs": []
    },
    {
      "cell_type": "code",
      "metadata": {
        "id": "M9Oq5_RmQR3U",
        "colab_type": "code",
        "colab": {}
      },
      "source": [
        "#print(query )"
      ],
      "execution_count": 0,
      "outputs": []
    },
    {
      "cell_type": "code",
      "metadata": {
        "id": "qVrt2BpRTBuq",
        "colab_type": "code",
        "colab": {}
      },
      "source": [
        "!wget https://i.ytimg.com/vi/niyYLBAyAaA/hqdefault.jpg"
      ],
      "execution_count": 0,
      "outputs": []
    },
    {
      "cell_type": "code",
      "metadata": {
        "id": "cCR0Jq2US-3Z",
        "colab_type": "code",
        "colab": {}
      },
      "source": [
        "from IPython.display import Image, display\n",
        "def load_img(path): # โหลดรูปภายนอก\n",
        "  q={}\n",
        "  q['cls']='car'\n",
        "  q['img']=path\n",
        "  q['hist']=methods[mthd]().histogram(input=path)\n",
        "  display(Image(q[\"img\"], width=100, height=100))\n",
        "  return q"
      ],
      "execution_count": 0,
      "outputs": []
    },
    {
      "cell_type": "code",
      "metadata": {
        "id": "kDoyuMNbTRlI",
        "colab_type": "code",
        "colab": {}
      },
      "source": [
        "query=load_img(\"hqdefault.jpg\") # ไม่มีภาพนี้ในดัชนี"
      ],
      "execution_count": 0,
      "outputs": []
    },
    {
      "cell_type": "code",
      "metadata": {
        "id": "Nf9SwUzUN0RF",
        "colab_type": "code",
        "colab": {}
      },
      "source": [
        "_, result = infer(query, samples=samples, depth=depth, d_type=d_type)"
      ],
      "execution_count": 0,
      "outputs": []
    },
    {
      "cell_type": "code",
      "metadata": {
        "id": "v_KWdvOgN2m9",
        "colab_type": "code",
        "colab": {}
      },
      "source": [
        "from IPython.display import Image, display\n",
        "for match in result:\n",
        "  display(Image(match[\"img\"], width=100, height=100))#'/content/CBIR'+\n",
        "  print(\"Dis: {},\\tClass: {}\".format(match[\"dis\"],match[\"cls\"]))"
      ],
      "execution_count": 0,
      "outputs": []
    },
    {
      "cell_type": "markdown",
      "metadata": {
        "id": "6A0-9EaBcR3N",
        "colab_type": "text"
      },
      "source": [
        "# HomeWork Lab\n",
        "\n",
        "- ทำข้อมูลสำหรับ CBIR ด้วยตัวเอง\n",
        "- ลองปรับดปลี่ยนรูปแบบการทำงานแล้วลองเปรียบเทียบผลลัพธ์\n",
        "- เปลี่ยนรูปภาพสำหรับสืบค้น แล้วดูผลลัพธ์"
      ]
    }
  ]
}